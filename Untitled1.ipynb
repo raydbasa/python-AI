{
 "cells": [
  {
   "cell_type": "markdown",
   "id": "349299b9-0014-4066-91db-5a69845d96fd",
   "metadata": {},
   "source": [
    "# Write a Python program to find the indices of sorted elements of this list [10,5,8,,3,2,1]"
   ]
  },
  {
   "cell_type": "code",
   "execution_count": 6,
   "id": "c42f62c1-f1d9-443c-bc11-c74fbcf9eef0",
   "metadata": {},
   "outputs": [
    {
     "name": "stdout",
     "output_type": "stream",
     "text": [
      "[10  5  8  3  2  1]\n",
      "[5 4 3 1 2 0]\n",
      "[ 1  2  3  5  8 10]\n"
     ]
    }
   ],
   "source": [
    "import numpy as np\n",
    "array = np.array([10,5,8,3,2,1])\n",
    "print(array)\n",
    "indices = np.argsort(array)\n",
    "print(indices)\n",
    "order = np.sort(array)\n",
    "print(order)"
   ]
  },
  {
   "cell_type": "markdown",
   "id": "456aca9f-4c0c-4e8e-9dff-27fd49b21261",
   "metadata": {},
   "source": [
    "# Write a Python program to split a string of words separated by spaces into two lists"
   ]
  },
  {
   "cell_type": "code",
   "execution_count": 52,
   "id": "0f7eed61-b9c6-4413-9a9c-8a1919144c5d",
   "metadata": {},
   "outputs": [
    {
     "name": "stdout",
     "output_type": "stream",
     "text": [
      "[['Python', 'is', 'a', 'high-level', 'general-purpose', 'programming', 'language', 'Its', 'design', 'philosophy', 'emphasizes', 'code', 'readability', 'with', 'the', 'use', 'of', 'significant', 'indentation'], [' ', ' ', ' ', ', ', ' ', ' ', ' ', ' ', ' ', ' ', ' ', ' ', ' ', ' ', ' ', ' ', ' ', ' ']]\n"
     ]
    }
   ],
   "source": [
    "\n",
    "def test(string):\n",
    "    import re\n",
    "    spl = re.split(r\"([ ,]+)\", string)\n",
    "    return [spl[::2], spl[1::2]]\n",
    "\n",
    "str = 'Python is a high-level, general-purpose programming language Its design philosophy emphasizes code readability with the use of significant indentation'\n",
    "\n",
    "print(test(str))\n",
    "\n"
   ]
  },
  {
   "cell_type": "markdown",
   "id": "4792287d-be26-47c8-a194-135394cdcad1",
   "metadata": {},
   "source": [
    "# Write a Python program to generate a random n numbers from a given list."
   ]
  },
  {
   "cell_type": "code",
   "execution_count": 1,
   "id": "69ba1d37-4a8d-4812-8253-1c3ab073cd2c",
   "metadata": {},
   "outputs": [
    {
     "name": "stdout",
     "output_type": "stream",
     "text": [
      "the random 4 number form the list is : [2, 2, 3, 1]\n"
     ]
    }
   ],
   "source": [
    "import random \n",
    "lis = [10,5,8,3,2,1]\n",
    "randInrang = random.randint(0,len(lis))\n",
    "print('the random',randInrang,'number form the list is :',random.choices(lis,k=randInrang))"
   ]
  },
  {
   "cell_type": "code",
   "execution_count": null,
   "id": "6b9342d6-5783-4977-ad44-1be3eb0f7ad3",
   "metadata": {},
   "outputs": [],
   "source": []
  }
 ],
 "metadata": {
  "kernelspec": {
   "display_name": "Python 3 (ipykernel)",
   "language": "python",
   "name": "python3"
  },
  "language_info": {
   "codemirror_mode": {
    "name": "ipython",
    "version": 3
   },
   "file_extension": ".py",
   "mimetype": "text/x-python",
   "name": "python",
   "nbconvert_exporter": "python",
   "pygments_lexer": "ipython3",
   "version": "3.9.12"
  }
 },
 "nbformat": 4,
 "nbformat_minor": 5
}
